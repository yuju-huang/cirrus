{
 "cells": [
  {
   "cell_type": "markdown",
   "metadata": {},
   "source": [
    "# Logistic Regression\n",
    "---\n",
    "This notebook uses Cirrus to run logistic regression on the Criteo dataset."
   ]
  },
  {
   "cell_type": "markdown",
   "metadata": {},
   "source": [
    "## Setup\n",
    "---"
   ]
  },
  {
   "cell_type": "code",
   "execution_count": null,
   "metadata": {},
   "outputs": [],
   "source": [
    "# To ease development, each time a cell is run, all modules will be reloaded.\n",
    "%load_ext autoreload\n",
    "%autoreload 2"
   ]
  },
  {
   "cell_type": "code",
   "execution_count": null,
   "metadata": {},
   "outputs": [],
   "source": [
    "import logging\n",
    "import sys\n",
    "import atexit\n",
    "import local_ps"
   ]
  },
  {
   "cell_type": "code",
   "execution_count": null,
   "metadata": {},
   "outputs": [],
   "source": [
    "# Cirrus produces logs, but they will not show unless we add a handler that prints.\n",
    "from cirrus import utilities\n",
    "utilities.set_logging_handler()"
   ]
  },
  {
   "cell_type": "code",
   "execution_count": null,
   "metadata": {},
   "outputs": [],
   "source": [
    "from cirrus import instance, parameter_server, automate, lr, aws_resources"
   ]
  },
  {
   "cell_type": "markdown",
   "metadata": {},
   "source": [
    "## Instance, server, and task\n",
    "---"
   ]
  },
  {
   "cell_type": "markdown",
   "metadata": {},
   "source": [
    "First, we start an EC2 instance."
   ]
  },
  {
   "cell_type": "code",
   "execution_count": null,
   "metadata": {},
   "outputs": [],
   "source": [
    "instance.resources = aws_resources.get_resource()\n",
    "automate.resources = aws_resources.get_resource()\n",
    "\n",
    "inst = instance.Instance(\n",
    "    name=\"lr_example_instance\",\n",
    "    disk_size=32,\n",
    "    typ=\"t3.micro\",\n",
    "    username=\"ubuntu\",\n",
    "    ami_owner_name=(\"self\", \"cirrus_server_image\")\n",
    ")\n",
    "inst.start()"
   ]
  },
  {
   "cell_type": "markdown",
   "metadata": {},
   "source": [
    "Second, we create a parameter server to run on our instance."
   ]
  },
  {
   "cell_type": "code",
   "execution_count": null,
   "metadata": {},
   "outputs": [],
   "source": [
    "\"\"\"\"\n",
    "# Enable this if running on EC2\n",
    "server = parameter_server.ParameterServer(\n",
    "    instance=inst,\n",
    "    ps_port=1337,\n",
    "    error_port=1338,\n",
    "    num_workers=64\n",
    ")\n",
    "\"\"\""
   ]
  },
  {
   "cell_type": "code",
   "execution_count": null,
   "metadata": {},
   "outputs": [],
   "source": [
    "# Running the ParameterServer locally on compute22.\n",
    "server = local_ps.LocalParameterServer(\n",
    "    public_ip=\"128.84.139.16\",\n",
    "    port=1337)"
   ]
  },
  {
   "cell_type": "markdown",
   "metadata": {},
   "source": [
    "Third, we define our machine learning task."
   ]
  },
  {
   "cell_type": "code",
   "execution_count": null,
   "metadata": {},
   "outputs": [],
   "source": [
    "task = lr.LogisticRegression(\n",
    "    n_workers=16,\n",
    "    n_ps=1,\n",
    "    dataset=\"criteo-kaggle-19b\",\n",
    "    learning_rate=0.0001,\n",
    "    epsilon=0.0001,\n",
    "    progress_callback=None,\n",
    "    train_set=(0, 19),\n",
    "    test_set=(20, 30),\n",
    "    minibatch_size=5,\n",
    "    #train_set=(0, 799),\n",
    "    #test_set=(800, 850),\n",
    "    #minibatch_size=200,\n",
    "    model_bits=19,\n",
    "    ps=server,\n",
    "    opt_method=\"adagrad\",\n",
    "    timeout=60,\n",
    "    lambda_size=192\n",
    ")"
   ]
  },
  {
   "cell_type": "markdown",
   "metadata": {},
   "source": [
    "## Run\n",
    "---"
   ]
  },
  {
   "cell_type": "markdown",
   "metadata": {},
   "source": [
    "Next, we run our machine learning task."
   ]
  },
  {
   "cell_type": "code",
   "execution_count": null,
   "metadata": {
    "scrolled": true
   },
   "outputs": [],
   "source": [
    "task.run()"
   ]
  },
  {
   "cell_type": "markdown",
   "metadata": {},
   "source": [
    "Run this cell to see the present accuracy of the model."
   ]
  },
  {
   "cell_type": "code",
   "execution_count": null,
   "metadata": {},
   "outputs": [],
   "source": [
    "for line in server.ps_output().split(b'\\n')[-10:]:\n",
    "    print(line)\n",
    "\n",
    "for line in server.error_output().split(b'\\n')[-10:]:\n",
    "    print(line)\n",
    "#    if b'Accuracy' in line:\n",
    "#        print(line)"
   ]
  },
  {
   "cell_type": "markdown",
   "metadata": {},
   "source": [
    "## Cleanup\n",
    "---"
   ]
  },
  {
   "cell_type": "markdown",
   "metadata": {},
   "source": [
    "When we're satisfied with the results, we kill our task."
   ]
  },
  {
   "cell_type": "code",
   "execution_count": null,
   "metadata": {},
   "outputs": [],
   "source": [
    "task.kill()"
   ]
  },
  {
   "cell_type": "markdown",
   "metadata": {},
   "source": [
    "We also need to terminate our instance in order to avoid continuing charges."
   ]
  },
  {
   "cell_type": "code",
   "execution_count": null,
   "metadata": {},
   "outputs": [],
   "source": [
    "inst.cleanup()"
   ]
  }
 ],
 "metadata": {
  "kernelspec": {
   "display_name": "Python 3",
   "language": "python",
   "name": "python3"
  },
  "language_info": {
   "codemirror_mode": {
    "name": "ipython",
    "version": 3
   },
   "file_extension": ".py",
   "mimetype": "text/x-python",
   "name": "python",
   "nbconvert_exporter": "python",
   "pygments_lexer": "ipython3",
   "version": "3.6.9"
  }
 },
 "nbformat": 4,
 "nbformat_minor": 2
}
